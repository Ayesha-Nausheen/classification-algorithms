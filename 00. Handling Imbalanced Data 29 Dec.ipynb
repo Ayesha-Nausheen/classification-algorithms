{
 "cells": [
  {
   "cell_type": "code",
   "execution_count": 1,
   "id": "f8e2af36",
   "metadata": {},
   "outputs": [],
   "source": [
    "import numpy as np\n",
    "import pandas as pd"
   ]
  },
  {
   "cell_type": "code",
   "execution_count": 2,
   "id": "a6b77a15",
   "metadata": {},
   "outputs": [
    {
     "data": {
      "text/html": [
       "<div>\n",
       "<style scoped>\n",
       "    .dataframe tbody tr th:only-of-type {\n",
       "        vertical-align: middle;\n",
       "    }\n",
       "\n",
       "    .dataframe tbody tr th {\n",
       "        vertical-align: top;\n",
       "    }\n",
       "\n",
       "    .dataframe thead th {\n",
       "        text-align: right;\n",
       "    }\n",
       "</style>\n",
       "<table border=\"1\" class=\"dataframe\">\n",
       "  <thead>\n",
       "    <tr style=\"text-align: right;\">\n",
       "      <th></th>\n",
       "      <th>X</th>\n",
       "      <th>y</th>\n",
       "    </tr>\n",
       "  </thead>\n",
       "  <tbody>\n",
       "    <tr>\n",
       "      <th>0</th>\n",
       "      <td>-0.941008</td>\n",
       "      <td>1</td>\n",
       "    </tr>\n",
       "    <tr>\n",
       "      <th>1</th>\n",
       "      <td>1.225229</td>\n",
       "      <td>1</td>\n",
       "    </tr>\n",
       "    <tr>\n",
       "      <th>2</th>\n",
       "      <td>1.822382</td>\n",
       "      <td>1</td>\n",
       "    </tr>\n",
       "    <tr>\n",
       "      <th>3</th>\n",
       "      <td>1.940940</td>\n",
       "      <td>1</td>\n",
       "    </tr>\n",
       "    <tr>\n",
       "      <th>4</th>\n",
       "      <td>0.913569</td>\n",
       "      <td>1</td>\n",
       "    </tr>\n",
       "  </tbody>\n",
       "</table>\n",
       "</div>"
      ],
      "text/plain": [
       "          X  y\n",
       "0 -0.941008  1\n",
       "1  1.225229  1\n",
       "2  1.822382  1\n",
       "3  1.940940  1\n",
       "4  0.913569  1"
      ]
     },
     "execution_count": 2,
     "metadata": {},
     "output_type": "execute_result"
    }
   ],
   "source": [
    "data=pd.read_csv('random_sample.csv')\n",
    "data.head()"
   ]
  },
  {
   "cell_type": "code",
   "execution_count": 3,
   "id": "09ada595",
   "metadata": {},
   "outputs": [
    {
     "data": {
      "text/plain": [
       "<bound method DataFrame.info of             X  y\n",
       "0   -0.941008  1\n",
       "1    1.225229  1\n",
       "2    1.822382  1\n",
       "3    1.940940  1\n",
       "4    0.913569  1\n",
       "..        ... ..\n",
       "995 -0.400307  1\n",
       "996  2.267628  1\n",
       "997  2.072655  1\n",
       "998  0.999226  1\n",
       "999 -0.636595  0\n",
       "\n",
       "[1000 rows x 2 columns]>"
      ]
     },
     "execution_count": 3,
     "metadata": {},
     "output_type": "execute_result"
    }
   ],
   "source": [
    "data.info"
   ]
  },
  {
   "cell_type": "code",
   "execution_count": 4,
   "id": "bd16d0e6",
   "metadata": {},
   "outputs": [],
   "source": [
    "X=data[['X']]\n",
    "y=data[['y']]"
   ]
  },
  {
   "cell_type": "code",
   "execution_count": 5,
   "id": "cc6a1c5a",
   "metadata": {},
   "outputs": [
    {
     "name": "stdout",
     "output_type": "stream",
     "text": [
      "Original dataset shape\n",
      "----------------------\n"
     ]
    },
    {
     "data": {
      "text/plain": [
       "y\n",
       "1    900\n",
       "0    100\n",
       "dtype: int64"
      ]
     },
     "execution_count": 5,
     "metadata": {},
     "output_type": "execute_result"
    }
   ],
   "source": [
    "print('Original dataset shape')\n",
    "print('----------------------')\n",
    "y.value_counts()"
   ]
  },
  {
   "cell_type": "code",
   "execution_count": 6,
   "id": "7d0dd253",
   "metadata": {},
   "outputs": [
    {
     "name": "stdout",
     "output_type": "stream",
     "text": [
      "Requirement already satisfied: imblearn in /Users/ayeshanausheen/opt/anaconda3/lib/python3.9/site-packages (0.0)\n",
      "Requirement already satisfied: imbalanced-learn in /Users/ayeshanausheen/opt/anaconda3/lib/python3.9/site-packages (from imblearn) (0.11.0)\n",
      "Requirement already satisfied: numpy>=1.17.3 in /Users/ayeshanausheen/opt/anaconda3/lib/python3.9/site-packages (from imbalanced-learn->imblearn) (1.23.5)\n",
      "Requirement already satisfied: threadpoolctl>=2.0.0 in /Users/ayeshanausheen/opt/anaconda3/lib/python3.9/site-packages (from imbalanced-learn->imblearn) (2.2.0)\n",
      "Requirement already satisfied: joblib>=1.1.1 in /Users/ayeshanausheen/opt/anaconda3/lib/python3.9/site-packages (from imbalanced-learn->imblearn) (1.3.2)\n",
      "Requirement already satisfied: scikit-learn>=1.0.2 in /Users/ayeshanausheen/opt/anaconda3/lib/python3.9/site-packages (from imbalanced-learn->imblearn) (1.0.2)\n",
      "Requirement already satisfied: scipy>=1.5.0 in /Users/ayeshanausheen/opt/anaconda3/lib/python3.9/site-packages (from imbalanced-learn->imblearn) (1.9.1)\n"
     ]
    }
   ],
   "source": [
    "## install library imblearn\n",
    "!pip install imblearn"
   ]
  },
  {
   "cell_type": "markdown",
   "id": "832031f5",
   "metadata": {},
   "source": [
    "# Undersampling of majority class"
   ]
  },
  {
   "cell_type": "code",
   "execution_count": 7,
   "id": "b18e1046",
   "metadata": {},
   "outputs": [
    {
     "name": "stdout",
     "output_type": "stream",
     "text": [
      "After undersampling dataset shape\n",
      "---------------------------------\n"
     ]
    },
    {
     "data": {
      "text/plain": [
       "y\n",
       "0    100\n",
       "1    100\n",
       "dtype: int64"
      ]
     },
     "execution_count": 7,
     "metadata": {},
     "output_type": "execute_result"
    }
   ],
   "source": [
    "# Option 1\n",
    "from imblearn.under_sampling import RandomUnderSampler\n",
    "rs = RandomUnderSampler(random_state=42)\n",
    "X_new, y_new = rs.fit_resample(X, y)\n",
    "\n",
    "# Do this step in an unbalanced dataset before train test split\n",
    "\n",
    "print('After undersampling dataset shape')\n",
    "print('---------------------------------')\n",
    "y_new.value_counts()"
   ]
  },
  {
   "cell_type": "code",
   "execution_count": 8,
   "id": "9fdc7eef",
   "metadata": {},
   "outputs": [
    {
     "name": "stdout",
     "output_type": "stream",
     "text": [
      "After undersampling dataset shape\n",
      "---------------------------------\n"
     ]
    },
    {
     "data": {
      "text/plain": [
       "y\n",
       "0    100\n",
       "1    100\n",
       "dtype: int64"
      ]
     },
     "execution_count": 8,
     "metadata": {},
     "output_type": "execute_result"
    }
   ],
   "source": [
    "# Option 2\n",
    "from imblearn.under_sampling import NearMiss\n",
    "us=NearMiss()\n",
    "x_us,y_us=us.fit_resample(X,y)\n",
    "\n",
    "print('After undersampling dataset shape')\n",
    "print('---------------------------------')\n",
    "y_us.value_counts()"
   ]
  },
  {
   "cell_type": "markdown",
   "id": "e982b975",
   "metadata": {},
   "source": [
    "# Oversampling of minority class by duplication"
   ]
  },
  {
   "cell_type": "code",
   "execution_count": 9,
   "id": "e09c2770",
   "metadata": {},
   "outputs": [
    {
     "name": "stdout",
     "output_type": "stream",
     "text": [
      "After oversampling dataset shape\n",
      "---------------------------------\n"
     ]
    },
    {
     "data": {
      "text/plain": [
       "y\n",
       "0    900\n",
       "1    900\n",
       "dtype: int64"
      ]
     },
     "execution_count": 9,
     "metadata": {},
     "output_type": "execute_result"
    }
   ],
   "source": [
    "# Generally we dont use duplication method\n",
    "from imblearn.over_sampling import RandomOverSampler\n",
    "ROS=RandomOverSampler()\n",
    "X_new,y_new=ROS.fit_resample(X,y)\n",
    "\n",
    "print('After oversampling dataset shape')\n",
    "print('---------------------------------')\n",
    "y_new.value_counts()"
   ]
  },
  {
   "cell_type": "markdown",
   "id": "1a60ac73",
   "metadata": {},
   "source": [
    "# Oversampling of minority class by SMOTE"
   ]
  },
  {
   "cell_type": "code",
   "execution_count": 10,
   "id": "25b44b51",
   "metadata": {},
   "outputs": [
    {
     "name": "stdout",
     "output_type": "stream",
     "text": [
      "After oversampling dataset shape\n",
      "---------------------------------\n"
     ]
    },
    {
     "data": {
      "text/plain": [
       "y\n",
       "0    900\n",
       "1    900\n",
       "dtype: int64"
      ]
     },
     "execution_count": 10,
     "metadata": {},
     "output_type": "execute_result"
    }
   ],
   "source": [
    "from imblearn.over_sampling import SMOTE\n",
    "SMOTE=SMOTE()\n",
    "X_new,y_new=ROS.fit_resample(X,y)\n",
    "\n",
    "print('After oversampling dataset shape')\n",
    "print('---------------------------------')\n",
    "y_new.value_counts()"
   ]
  }
 ],
 "metadata": {
  "kernelspec": {
   "display_name": "Python 3 (ipykernel)",
   "language": "python",
   "name": "python3"
  },
  "language_info": {
   "codemirror_mode": {
    "name": "ipython",
    "version": 3
   },
   "file_extension": ".py",
   "mimetype": "text/x-python",
   "name": "python",
   "nbconvert_exporter": "python",
   "pygments_lexer": "ipython3",
   "version": "3.9.13"
  }
 },
 "nbformat": 4,
 "nbformat_minor": 5
}
